{
 "cells": [
  {
   "cell_type": "markdown",
   "id": "ee50972d-9bcf-4db3-893f-609fa5565097",
   "metadata": {},
   "source": [
    "## Analyziation of the steady state simulation results"
   ]
  },
  {
   "cell_type": "markdown",
   "id": "6650aeb1-d441-4782-b500-cf4542fb7aa0",
   "metadata": {},
   "source": [
    "### Residuals"
   ]
  },
  {
   "cell_type": "code",
   "execution_count": 1,
   "id": "619b27b4-98c1-4057-9d36-106e8e9a3ea3",
   "metadata": {},
   "outputs": [],
   "source": [
    "# number of iterations\n",
    "num_iterations = 6000"
   ]
  },
  {
   "cell_type": "code",
   "execution_count": null,
   "id": "6c15c667-77b4-4d8c-97fe-98836229946f",
   "metadata": {},
   "outputs": [],
   "source": [
    "# loading libraries\n",
    "import pandas as pd\n",
    "import matplotlib.pyplot as plt\n",
    "import numpy as np"
   ]
  },
  {
   "cell_type": "code",
   "execution_count": null,
   "id": "3284cfcb-c593-4fc6-8d87-423587fef5ca",
   "metadata": {},
   "outputs": [],
   "source": [
    "# column names \n",
    "colnames = [\n",
    "    \"Time\", \"U_solver\", \"Ux_initial\", \"Ux_final\", \"Ux_iters\",\n",
    "    \"Uy_initial\", \"Uy_final\", \"Uy_iters\", \"U_converged\",\n",
    "    \"k_solver\", \"k_initial\", \"k_final\", \"k_iters\", \"k_converged\",\n",
    "    \"omega_solver\", \"omega_initial\", \"omega_final\", \"omega_iters\", \"omega_converged\",\n",
    "    \"p_solver\", \"p_initial\", \"p_final\", \"p_iters\", \"p_converged\"\n",
    "]\n",
    "\n",
    "\n",
    "# plotting \n",
    "plt.figure(figsize=(10, 6)\n",
    "\n",
    "# for all meshes \n",
    "for i in range(1, num_meshes + 1):\n",
    "    # Pfad zur Datei\n",
    "    filepath = f'output/resultSteadyState/postProcessing/solverInfo/0/solverInfo.dat'\n",
    "    \n",
    "    # reading data\n",
    "    df = pd.read_csv(filepath, sep=r'\\s+', skiprows=2, names=colnames)\n",
    "    \n",
    "    plt.plot(df[\"Time\"], df[\"Ux_initial\"], label=\"Ux_initial\")\n",
    "    plt.plot(df[\"Time\"], df[\"Uy_initial\"], label=\"Uy_initial\")\n",
    "    plt.plot(df[\"Time\"], df[\"k_initial\"], label=\"k_initial\")\n",
    "    plt.plot(df[\"Time\"], df[\"p_initial\"], label=\"p_initial\")\n",
    "    plt.plot(df[\"Time\"], df[\"omega_initial\"], label=\"omega_initial\")\n",
    "    \n",
    "    plt.xlabel(\"Time\")\n",
    "    plt.ylabel(\"Initial residuals (log)\")\n",
    "    plt.title(f\"Initial residuals\")\n",
    "    plt.yscale('log')\n",
    "    plt.grid(True, which=\"both\", linestyle=\"--\", linewidth=0.5)\n",
    "    plt.legend()\n",
    "\n",
    "# showing layout\n",
    "plt.tight_layout()\n",
    "plt.show()"
   ]
  },
  {
   "cell_type": "markdown",
   "id": "c49dffe5-75b1-4a94-8563-ba65584a6b82",
   "metadata": {},
   "source": [
    "## Analyziation of wall shear Stress"
   ]
  },
  {
   "cell_type": "markdown",
   "id": "dfe8fe36-a7c5-4ba1-aabb-02de2b5411a9",
   "metadata": {},
   "source": [
    "### Diagramm "
   ]
  },
  {
   "cell_type": "code",
   "execution_count": null,
   "id": "a3f77539-677b-4cee-a772-fd5ca46728c7",
   "metadata": {},
   "outputs": [],
   "source": [
    "def process_file(file_path):\n",
    "    data_pairs = []\n",
    "\n",
    "    with open(file_path, 'r') as f:\n",
    "        for line in f:\n",
    "            if line.strip().startswith('#') or not line.strip():\n",
    "                continue\n",
    "\n",
    "            parts = line.strip().split()\n",
    "            if len(parts) >= 9:\n",
    "                x = float(parts[0])\n",
    "\n",
    "                area = np.array([\n",
    "                    float(parts[6]),\n",
    "                    float(parts[7]),\n",
    "                    float(parts[8])\n",
    "                ])\n",
    "                norm = np.linalg.norm(area)\n",
    "                area_normalized = area / norm if norm != 0 else area\n",
    "\n",
    "                ez = np.array([0, 0, 1])\n",
    "                cross_prod = np.cross(area_normalized, ez)\n",
    "\n",
    "                shear = np.array([\n",
    "                    float(parts[3]),\n",
    "                    float(parts[4]),\n",
    "                    float(parts[5])\n",
    "                ])\n",
    "\n",
    "                scalar_product = np.dot(shear, cross_prod)\n",
    "                data_pairs.append((x, scalar_product))\n",
    "\n",
    "    # 👉 Hier wird jetzt sortiert\n",
    "    data_pairs.sort(key=lambda pair: pair[0])\n",
    "    return data_pairs\n",
    "\n",
    "\n",
    "def plot_multiple_files_with_loop():\n",
    "    plt.figure(figsize=(10, 5))\n",
    "    \n",
    "        file_path = (\"output/resultSteadyState/postProcessing/samples/\" + str(num_iterations) + \"/wallShearStress_lowerWall.raw\")\n",
    "\n",
    "        data_pairs = process_file(file_path)\n",
    "        x_vals = [pair[0] for pair in data_pairs]\n",
    "        scalar_vals = [pair[1] for pair in data_pairs]\n",
    "\n",
    "        plt.plot(x_vals, scalar_vals, label=f'Mesh {mesh_num}')\n",
    "\n",
    "    plt.title('Comparison of the wall shear stresses between the meshes')\n",
    "    plt.xlabel('global x value ')\n",
    "    plt.ylabel('wall shear stress')\n",
    "    plt.xlim(0, 0.4)\n",
    "    plt.ylim(-2, 2)\n",
    "    plt.grid(True)\n",
    "    plt.legend()\n",
    "    plt.tight_layout()\n",
    "    plt.show()\n",
    "\n",
    "# execution\n",
    "plot_multiple_files_with_loop()"
   ]
  },
  {
   "cell_type": "markdown",
   "id": "beea85e4-608a-46f6-a9b0-8a9ef797b9ba",
   "metadata": {},
   "source": [
    "### table of the wall shear stress at certain points to compare with experimental data"
   ]
  },
  {
   "cell_type": "code",
   "execution_count": null,
   "id": "b5c1bdea-e9ea-463f-b36c-61fc603e9bf4",
   "metadata": {},
   "outputs": [],
   "source": [
    "def process_file(file_path):\n",
    "    data_pairs = []\n",
    "\n",
    "    with open(file_path, 'r') as f:\n",
    "        for line in f:\n",
    "            if line.strip().startswith('#') or not line.strip():\n",
    "                continue\n",
    "\n",
    "            parts = line.strip().split()\n",
    "            if len(parts) >= 9:\n",
    "                x = float(parts[0])\n",
    "\n",
    "                area = np.array([\n",
    "                    float(parts[6]),\n",
    "                    float(parts[7]),\n",
    "                    float(parts[8])\n",
    "                ])\n",
    "                norm = np.linalg.norm(area)\n",
    "                area_normalized = area / norm if norm != 0 else area\n",
    "\n",
    "                ez = np.array([0, 0, 1])\n",
    "                cross_prod = np.cross(area_normalized, ez)\n",
    "\n",
    "                shear = np.array([\n",
    "                    float(parts[3]),\n",
    "                    float(parts[4]),\n",
    "                    float(parts[5])\n",
    "                ])\n",
    "\n",
    "                scalar_product = np.dot(shear, cross_prod)\n",
    "                data_pairs.append((x, scalar_product))\n",
    "\n",
    "    return sorted(data_pairs, key=lambda pair: pair[0])\n",
    "\n",
    "def interpolate_values_at_points(mesh_range, x_targets):\n",
    "    results = {'x': x_targets}\n",
    "\n",
    "        # Lineare Interpolation an gewünschten Stellen\n",
    "        interpolated = np.interp(x_targets, x_vals, scalar_vals)\n",
    "\n",
    "        # In Ergebnis-Tabelle einfügen\n",
    "        results[f'steadyState'] = interpolated\n",
    "\n",
    "    # Als DataFrame für schöne Ausgabe\n",
    "    df = pd.DataFrame(results)\n",
    "    return df\n",
    "\n",
    "# Werte, an denen interpoliert werden soll\n",
    "x_targets = np.array([0.082, 0.122, 0.162, 0.202, 0.242, 0.282, 0.386])\n",
    "mesh_range = range(1, 6)  # Mesh 1 bis 5\n",
    "\n",
    "# Interpolation ausführen und anzeigen\n",
    "interpolation_table = interpolate_values_at_points(mesh_range, x_targets)\n",
    "print(interpolation_table.to_string(index=False))\n"
   ]
  }
 ],
 "metadata": {
  "kernelspec": {
   "display_name": "Python 3 (ipykernel)",
   "language": "python",
   "name": "python3"
  },
  "language_info": {
   "codemirror_mode": {
    "name": "ipython",
    "version": 3
   },
   "file_extension": ".py",
   "mimetype": "text/x-python",
   "name": "python",
   "nbconvert_exporter": "python",
   "pygments_lexer": "ipython3",
   "version": "3.10.12"
  }
 },
 "nbformat": 4,
 "nbformat_minor": 5
}
